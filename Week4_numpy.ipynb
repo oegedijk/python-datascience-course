{
  "nbformat": 4,
  "nbformat_minor": 0,
  "metadata": {
    "kernelspec": {
      "display_name": "Python 3",
      "language": "python",
      "name": "python3"
    },
    "language_info": {
      "codemirror_mode": {
        "name": "ipython",
        "version": 3
      },
      "file_extension": ".py",
      "mimetype": "text/x-python",
      "name": "python",
      "nbconvert_exporter": "python",
      "pygments_lexer": "ipython3",
      "version": "3.7.3"
    },
    "toc": {
      "base_numbering": 1,
      "nav_menu": {},
      "number_sections": true,
      "sideBar": true,
      "skip_h1_title": false,
      "title_cell": "Table of Contents",
      "title_sidebar": "Contents",
      "toc_cell": false,
      "toc_position": {},
      "toc_section_display": true,
      "toc_window_display": false
    },
    "varInspector": {
      "cols": {
        "lenName": 16,
        "lenType": 16,
        "lenVar": 40
      },
      "kernels_config": {
        "python": {
          "delete_cmd_postfix": "",
          "delete_cmd_prefix": "del ",
          "library": "var_list.py",
          "varRefreshCmd": "print(var_dic_list())"
        },
        "r": {
          "delete_cmd_postfix": ") ",
          "delete_cmd_prefix": "rm(",
          "library": "var_list.r",
          "varRefreshCmd": "cat(var_dic_list()) "
        }
      },
      "types_to_exclude": [
        "module",
        "function",
        "builtin_function_or_method",
        "instance",
        "_Feature"
      ],
      "window_display": false
    },
    "colab": {
      "name": "Week4_numpy.ipynb",
      "provenance": [],
      "collapsed_sections": [],
      "include_colab_link": true
    }
  },
  "cells": [
    {
      "cell_type": "markdown",
      "metadata": {
        "id": "view-in-github",
        "colab_type": "text"
      },
      "source": [
        "<a href=\"https://colab.research.google.com/github/oegedijk/python-datascience-course/blob/master/Week4_numpy.ipynb\" target=\"_parent\"><img src=\"https://colab.research.google.com/assets/colab-badge.svg\" alt=\"Open In Colab\"/></a>"
      ]
    },
    {
      "cell_type": "markdown",
      "metadata": {
        "id": "mJb87eYe1DFS",
        "colab_type": "text"
      },
      "source": [
        "# Numpy Introduction\n",
        "\n",
        "Useful resources:\n",
        "\n",
        "https://numpy.org/doc/1.18/reference/index.html\n",
        "\n",
        "https://jakevdp.github.io/PythonDataScienceHandbook/02.03-computation-on-arrays-ufuncs.html\n",
        "\n",
        "https://www.analyticsvidhya.com/blog/2020/04/the-ultimate-numpy-tutorial-for-data-science-beginners/ \n",
        "\n",
        "\n",
        "\n",
        "NB all the print(\"\\n\") statements are in order to let google colab output multiple things per cell nicely. In a Jupyter notebook, these would not be necessary.\n"
      ]
    },
    {
      "cell_type": "code",
      "metadata": {
        "ExecuteTime": {
          "end_time": "2020-05-11T07:12:24.966396Z",
          "start_time": "2020-05-11T07:12:10.857407Z"
        },
        "id": "QC_WKm3o1DFT",
        "colab_type": "code",
        "colab": {}
      },
      "source": [
        "import numpy as np\n",
        "import pandas as pd"
      ],
      "execution_count": 0,
      "outputs": []
    },
    {
      "cell_type": "code",
      "metadata": {
        "ExecuteTime": {
          "end_time": "2020-05-11T07:12:24.983489Z",
          "start_time": "2020-05-11T07:12:24.980401Z"
        },
        "id": "c2YwACr-1DFa",
        "colab_type": "code",
        "colab": {}
      },
      "source": [
        "from IPython.core.interactiveshell import InteractiveShell\n",
        "InteractiveShell.ast_node_interactivity = \"all\""
      ],
      "execution_count": 0,
      "outputs": []
    },
    {
      "cell_type": "markdown",
      "metadata": {
        "id": "JS4uQOAV1DFe",
        "colab_type": "text"
      },
      "source": [
        "# Pandas and NumPy\n",
        "Pandas dataframes actually are just a (very fancy) wrapper around numpy arrays\n",
        "\n",
        "you can access the underlying numpy array using the .values attribute:"
      ]
    },
    {
      "cell_type": "code",
      "metadata": {
        "ExecuteTime": {
          "end_time": "2020-05-11T08:16:35.069790Z",
          "start_time": "2020-05-11T08:16:35.058788Z"
        },
        "id": "Dbg61pwl1DFf",
        "colab_type": "code",
        "outputId": "a98f1628-c97f-4ed0-99d8-c725cdd4adf6",
        "colab": {
          "base_uri": "https://localhost:8080/",
          "height": 193
        }
      },
      "source": [
        "df = pd.DataFrame(dict(x=[1, 2, 3], y=[4, 5, 6]))\n",
        "df\n",
        "df.values"
      ],
      "execution_count": 0,
      "outputs": [
        {
          "output_type": "execute_result",
          "data": {
            "text/html": [
              "<div>\n",
              "<style scoped>\n",
              "    .dataframe tbody tr th:only-of-type {\n",
              "        vertical-align: middle;\n",
              "    }\n",
              "\n",
              "    .dataframe tbody tr th {\n",
              "        vertical-align: top;\n",
              "    }\n",
              "\n",
              "    .dataframe thead th {\n",
              "        text-align: right;\n",
              "    }\n",
              "</style>\n",
              "<table border=\"1\" class=\"dataframe\">\n",
              "  <thead>\n",
              "    <tr style=\"text-align: right;\">\n",
              "      <th></th>\n",
              "      <th>x</th>\n",
              "      <th>y</th>\n",
              "    </tr>\n",
              "  </thead>\n",
              "  <tbody>\n",
              "    <tr>\n",
              "      <th>0</th>\n",
              "      <td>1</td>\n",
              "      <td>4</td>\n",
              "    </tr>\n",
              "    <tr>\n",
              "      <th>1</th>\n",
              "      <td>2</td>\n",
              "      <td>5</td>\n",
              "    </tr>\n",
              "    <tr>\n",
              "      <th>2</th>\n",
              "      <td>3</td>\n",
              "      <td>6</td>\n",
              "    </tr>\n",
              "  </tbody>\n",
              "</table>\n",
              "</div>"
            ],
            "text/plain": [
              "   x  y\n",
              "0  1  4\n",
              "1  2  5\n",
              "2  3  6"
            ]
          },
          "metadata": {
            "tags": []
          },
          "execution_count": 6
        },
        {
          "output_type": "execute_result",
          "data": {
            "text/plain": [
              "array([[1, 4],\n",
              "       [2, 5],\n",
              "       [3, 6]])"
            ]
          },
          "metadata": {
            "tags": []
          },
          "execution_count": 6
        }
      ]
    },
    {
      "cell_type": "markdown",
      "metadata": {
        "id": "eI74og861DFk",
        "colab_type": "text"
      },
      "source": [
        ""
      ]
    },
    {
      "cell_type": "markdown",
      "metadata": {
        "id": "7tApa0HU1DFl",
        "colab_type": "text"
      },
      "source": [
        "# what is NumPy and why learn it?\n",
        "\n",
        "Numpy stands for Numerical Python, and is a library developed for doing highly optimized (using C++ backend) numerical computing in Python. It forms the backbone for most of the datascience stack in Python.\n",
        "\n",
        "So it's useful to at least know the basics. \n",
        "\n",
        "Sidenote:\n",
        " - Numpy arrays are optimizied for, you guessed it, numerical operations. So it does not support that much functionality for toring strings in numpy arrays, as is typical in pandas  DataFrames. This is one of the things that pandas tries to make easier for the end user. \n",
        "\n",
        "\n",
        "    \n",
        "\n"
      ]
    },
    {
      "cell_type": "markdown",
      "metadata": {
        "id": "IXD0TJ8Q1DFl",
        "colab_type": "text"
      },
      "source": [
        "## Reason 1: Speeding up your code\n",
        "It's also really useful to know numpy in order to speed up your code:\n",
        "\n",
        "If you perform some operation using a for loop over all values in a DataFrame columns for example, chances are that there is a vectorized numpy implementation that is usually faster, sometimes a lot faster (as in 1000x). "
      ]
    },
    {
      "cell_type": "code",
      "metadata": {
        "ExecuteTime": {
          "end_time": "2020-05-11T07:57:58.378776Z",
          "start_time": "2020-05-11T07:57:55.843595Z"
        },
        "id": "5LtWEaVA1DFm",
        "colab_type": "code",
        "outputId": "a30d8c3d-1634-4301-ee2e-7016772cac19",
        "colab": {
          "base_uri": "https://localhost:8080/",
          "height": 34
        }
      },
      "source": [
        "def add_func(a, b):\n",
        "    assert len(a)==len(b)\n",
        "    \n",
        "    new_list = []\n",
        "    for i in range(len(a)):\n",
        "        new_list.append(a[i] + b[i])\n",
        "    return new_list\n",
        "\n",
        "a = [x for x in range(1000000)]\n",
        "b = [100000 + x for x in range(1000000)]\n",
        "\n",
        "%timeit add_func(a, b)"
      ],
      "execution_count": 0,
      "outputs": [
        {
          "output_type": "stream",
          "text": [
            "10 loops, best of 3: 149 ms per loop\n"
          ],
          "name": "stdout"
        }
      ]
    },
    {
      "cell_type": "code",
      "metadata": {
        "ExecuteTime": {
          "end_time": "2020-05-11T07:58:01.591025Z",
          "start_time": "2020-05-11T07:57:58.910816Z"
        },
        "id": "2qZbaPMj1DFq",
        "colab_type": "code",
        "outputId": "40abb4bd-1005-42c4-fedf-cc02f2795c04",
        "colab": {
          "base_uri": "https://localhost:8080/",
          "height": 34
        }
      },
      "source": [
        "a = np.arange(0,1000000)\n",
        "b = np.arange(1000000,2000000)\n",
        "%timeit a+b"
      ],
      "execution_count": 0,
      "outputs": [
        {
          "output_type": "stream",
          "text": [
            "1000 loops, best of 3: 1.56 ms per loop\n"
          ],
          "name": "stdout"
        }
      ]
    },
    {
      "cell_type": "markdown",
      "metadata": {
        "id": "k2bur59n1DFu",
        "colab_type": "text"
      },
      "source": [
        "## Reason 2: Applying numpy functions to your pandas DataFrame.\n",
        "\n",
        "Given dat pandas dataframes are built on top of numpy arrays, you can apply numpy functions to them: `df.apply(np.mean)`\n"
      ]
    },
    {
      "cell_type": "code",
      "metadata": {
        "ExecuteTime": {
          "end_time": "2020-05-11T07:18:15.063171Z",
          "start_time": "2020-05-11T07:18:15.041168Z"
        },
        "id": "BsWU2xUd1DFv",
        "colab_type": "code",
        "outputId": "728b00dd-f401-4f95-e7f6-57de9e14e5bf",
        "colab": {
          "base_uri": "https://localhost:8080/",
          "height": 68
        }
      },
      "source": [
        "df.apply(np.mean)"
      ],
      "execution_count": 0,
      "outputs": [
        {
          "output_type": "execute_result",
          "data": {
            "text/plain": [
              "x    2.0\n",
              "y    5.0\n",
              "dtype: float64"
            ]
          },
          "metadata": {
            "tags": []
          },
          "execution_count": 9
        }
      ]
    },
    {
      "cell_type": "markdown",
      "metadata": {
        "id": "_NpCCWl31DFz",
        "colab_type": "text"
      },
      "source": [
        "## Reason 3: PyTorch arrays are based on NumPy arrays\n",
        "\n",
        "- if you want to get into deep learning with PyTorch and you already know numpy, your learning curve will be easier:\n",
        "    - PyTorch arrays are basically just numpy arrays that are easy to move to the GPU and remember all operations performed on it so that you can perform autograd on it.\n",
        "    - all the same operations (reshape, squeeze, etc) (mostly) work with the exact same syntax on torch arrays"
      ]
    },
    {
      "cell_type": "markdown",
      "metadata": {
        "id": "MDg70aCL1DF0",
        "colab_type": "text"
      },
      "source": [
        "# Defining numpy arrays:"
      ]
    },
    {
      "cell_type": "code",
      "metadata": {
        "ExecuteTime": {
          "end_time": "2020-05-11T08:18:17.723052Z",
          "start_time": "2020-05-11T08:18:17.717053Z"
        },
        "id": "vZ85u2EI1DF1",
        "colab_type": "code",
        "outputId": "f373cf6f-e953-4995-ea0f-73b43ed2e30d",
        "colab": {
          "base_uri": "https://localhost:8080/",
          "height": 34
        }
      },
      "source": [
        "np.array([1, 2, 3, 4]) # construct from a list"
      ],
      "execution_count": 0,
      "outputs": [
        {
          "output_type": "execute_result",
          "data": {
            "text/plain": [
              "array([1, 2, 3, 4])"
            ]
          },
          "metadata": {
            "tags": []
          },
          "execution_count": 11
        }
      ]
    },
    {
      "cell_type": "code",
      "metadata": {
        "ExecuteTime": {
          "end_time": "2020-05-11T08:18:18.738131Z",
          "start_time": "2020-05-11T08:18:18.374099Z"
        },
        "id": "36o8R2bX1DF4",
        "colab_type": "code",
        "outputId": "2851460e-cc3e-4c78-f3ab-f12b5aa1dcec",
        "colab": {
          "base_uri": "https://localhost:8080/",
          "height": 68
        }
      },
      "source": [
        "np.ones((3,3)) # 3x3 matrix ons 1s"
      ],
      "execution_count": 0,
      "outputs": [
        {
          "output_type": "execute_result",
          "data": {
            "text/plain": [
              "array([[1., 1., 1.],\n",
              "       [1., 1., 1.],\n",
              "       [1., 1., 1.]])"
            ]
          },
          "metadata": {
            "tags": []
          },
          "execution_count": 12
        }
      ]
    },
    {
      "cell_type": "code",
      "metadata": {
        "ExecuteTime": {
          "end_time": "2020-05-11T07:21:08.390437Z",
          "start_time": "2020-05-11T07:21:08.384435Z"
        },
        "id": "M_EqwM4s1DF8",
        "colab_type": "code",
        "outputId": "906d1e54-6b8e-49de-ab89-e510609c8ef7",
        "colab": {
          "base_uri": "https://localhost:8080/",
          "height": 340
        }
      },
      "source": [
        "np.zeros((4,4,4)) # 4x4x4 nmatrix of 0s"
      ],
      "execution_count": 0,
      "outputs": [
        {
          "output_type": "execute_result",
          "data": {
            "text/plain": [
              "array([[[0., 0., 0., 0.],\n",
              "        [0., 0., 0., 0.],\n",
              "        [0., 0., 0., 0.],\n",
              "        [0., 0., 0., 0.]],\n",
              "\n",
              "       [[0., 0., 0., 0.],\n",
              "        [0., 0., 0., 0.],\n",
              "        [0., 0., 0., 0.],\n",
              "        [0., 0., 0., 0.]],\n",
              "\n",
              "       [[0., 0., 0., 0.],\n",
              "        [0., 0., 0., 0.],\n",
              "        [0., 0., 0., 0.],\n",
              "        [0., 0., 0., 0.]],\n",
              "\n",
              "       [[0., 0., 0., 0.],\n",
              "        [0., 0., 0., 0.],\n",
              "        [0., 0., 0., 0.],\n",
              "        [0., 0., 0., 0.]]])"
            ]
          },
          "metadata": {
            "tags": []
          },
          "execution_count": 13
        }
      ]
    },
    {
      "cell_type": "code",
      "metadata": {
        "ExecuteTime": {
          "end_time": "2020-05-11T08:08:32.444638Z",
          "start_time": "2020-05-11T08:08:32.438635Z"
        },
        "id": "XletT_J61DF_",
        "colab_type": "code",
        "outputId": "b82000d4-b952-4e39-ecd7-4f63c5b51220",
        "colab": {
          "base_uri": "https://localhost:8080/",
          "height": 102
        }
      },
      "source": [
        "np.eye(5) #identity matrix"
      ],
      "execution_count": 0,
      "outputs": [
        {
          "output_type": "execute_result",
          "data": {
            "text/plain": [
              "array([[1., 0., 0., 0., 0.],\n",
              "       [0., 1., 0., 0., 0.],\n",
              "       [0., 0., 1., 0., 0.],\n",
              "       [0., 0., 0., 1., 0.],\n",
              "       [0., 0., 0., 0., 1.]])"
            ]
          },
          "metadata": {
            "tags": []
          },
          "execution_count": 14
        }
      ]
    },
    {
      "cell_type": "code",
      "metadata": {
        "ExecuteTime": {
          "end_time": "2020-05-11T08:08:51.020953Z",
          "start_time": "2020-05-11T08:08:51.013951Z"
        },
        "id": "WIYgTWNw1DGD",
        "colab_type": "code",
        "outputId": "6f60897f-473f-4acf-cc76-dd284e35ea15",
        "colab": {
          "base_uri": "https://localhost:8080/",
          "height": 34
        }
      },
      "source": [
        "np.arange(2,10,2) # numpy implementation of python range()"
      ],
      "execution_count": 0,
      "outputs": [
        {
          "output_type": "execute_result",
          "data": {
            "text/plain": [
              "array([2, 4, 6, 8])"
            ]
          },
          "metadata": {
            "tags": []
          },
          "execution_count": 15
        }
      ]
    },
    {
      "cell_type": "code",
      "metadata": {
        "ExecuteTime": {
          "end_time": "2020-05-11T08:09:08.167171Z",
          "start_time": "2020-05-11T08:09:08.160165Z"
        },
        "id": "Y8z3-DQ41DGG",
        "colab_type": "code",
        "outputId": "83641086-47ec-4532-e357-777441ca7992",
        "colab": {
          "base_uri": "https://localhost:8080/",
          "height": 102
        }
      },
      "source": [
        "np.full((5,5), 7) # fill a 5x5 matrix of an array with a certain value (7 in this case)"
      ],
      "execution_count": 0,
      "outputs": [
        {
          "output_type": "execute_result",
          "data": {
            "text/plain": [
              "array([[7, 7, 7, 7, 7],\n",
              "       [7, 7, 7, 7, 7],\n",
              "       [7, 7, 7, 7, 7],\n",
              "       [7, 7, 7, 7, 7],\n",
              "       [7, 7, 7, 7, 7]])"
            ]
          },
          "metadata": {
            "tags": []
          },
          "execution_count": 16
        }
      ]
    },
    {
      "cell_type": "markdown",
      "metadata": {
        "id": "ZnXZUdfW1DGK",
        "colab_type": "text"
      },
      "source": [
        "# Size of array"
      ]
    },
    {
      "cell_type": "code",
      "metadata": {
        "ExecuteTime": {
          "end_time": "2020-05-11T07:21:28.558859Z",
          "start_time": "2020-05-11T07:21:28.551862Z"
        },
        "id": "K__CMgtY1DGK",
        "colab_type": "code",
        "outputId": "60803d0d-1335-464d-e11d-ebbc432104c5",
        "colab": {
          "base_uri": "https://localhost:8080/",
          "height": 51
        }
      },
      "source": [
        "a = np.ones((3,4))\n",
        "print(f\"shape: {a.shape}\")\n",
        "print(f\"size: {a.size}\")"
      ],
      "execution_count": 0,
      "outputs": [
        {
          "output_type": "stream",
          "text": [
            "shape: (3, 4)\n",
            "size: 12\n"
          ],
          "name": "stdout"
        }
      ]
    },
    {
      "cell_type": "markdown",
      "metadata": {
        "id": "-Y7jt2B41DGO",
        "colab_type": "text"
      },
      "source": [
        "# Reshaping arrays"
      ]
    },
    {
      "cell_type": "code",
      "metadata": {
        "ExecuteTime": {
          "end_time": "2020-05-11T07:21:58.285966Z",
          "start_time": "2020-05-11T07:21:58.276968Z"
        },
        "id": "m6gx1-nD1DGO",
        "colab_type": "code",
        "outputId": "08e4d6bb-6aae-4a02-8cd7-8ca37d0c84cb",
        "colab": {
          "base_uri": "https://localhost:8080/",
          "height": 119
        }
      },
      "source": [
        "np.reshape(a,(2,6))\n",
        "b = np.reshape(np.arange(0, 12), (3, 4))\n",
        "print(\"\\n\")\n",
        "b"
      ],
      "execution_count": 0,
      "outputs": [
        {
          "output_type": "execute_result",
          "data": {
            "text/plain": [
              "array([[1., 1., 1., 1., 1., 1.],\n",
              "       [1., 1., 1., 1., 1., 1.]])"
            ]
          },
          "metadata": {
            "tags": []
          },
          "execution_count": 23
        },
        {
          "output_type": "stream",
          "text": [
            "\n",
            "\n"
          ],
          "name": "stdout"
        },
        {
          "output_type": "execute_result",
          "data": {
            "text/plain": [
              "array([[ 0,  1,  2,  3],\n",
              "       [ 4,  5,  6,  7],\n",
              "       [ 8,  9, 10, 11]])"
            ]
          },
          "metadata": {
            "tags": []
          },
          "execution_count": 23
        }
      ]
    },
    {
      "cell_type": "code",
      "metadata": {
        "ExecuteTime": {
          "end_time": "2020-05-11T07:22:01.625204Z",
          "start_time": "2020-05-11T07:22:01.620201Z"
        },
        "id": "Tn9UN73o1DGR",
        "colab_type": "code",
        "outputId": "ea21bf6a-eddd-463b-c929-b4e0e3db1a07",
        "colab": {
          "base_uri": "https://localhost:8080/",
          "height": 34
        }
      },
      "source": [
        "b.flatten()"
      ],
      "execution_count": 0,
      "outputs": [
        {
          "output_type": "execute_result",
          "data": {
            "text/plain": [
              "array([ 0,  1,  2,  3,  4,  5,  6,  7,  8,  9, 10, 11])"
            ]
          },
          "metadata": {
            "tags": []
          },
          "execution_count": 24
        }
      ]
    },
    {
      "cell_type": "code",
      "metadata": {
        "ExecuteTime": {
          "end_time": "2020-05-11T07:22:11.204882Z",
          "start_time": "2020-05-11T07:22:11.198888Z"
        },
        "id": "7TSqYWfR1DGV",
        "colab_type": "code",
        "outputId": "1710661f-d331-44b7-d19c-842ea21a02ec",
        "colab": {
          "base_uri": "https://localhost:8080/",
          "height": 153
        }
      },
      "source": [
        "a\n",
        "print(\"\\n\")\n",
        "np.transpose(a)"
      ],
      "execution_count": 0,
      "outputs": [
        {
          "output_type": "execute_result",
          "data": {
            "text/plain": [
              "array([[1., 1., 1., 1.],\n",
              "       [1., 1., 1., 1.],\n",
              "       [1., 1., 1., 1.]])"
            ]
          },
          "metadata": {
            "tags": []
          },
          "execution_count": 25
        },
        {
          "output_type": "stream",
          "text": [
            "\n",
            "\n"
          ],
          "name": "stdout"
        },
        {
          "output_type": "execute_result",
          "data": {
            "text/plain": [
              "array([[1., 1., 1.],\n",
              "       [1., 1., 1.],\n",
              "       [1., 1., 1.],\n",
              "       [1., 1., 1.]])"
            ]
          },
          "metadata": {
            "tags": []
          },
          "execution_count": 25
        }
      ]
    },
    {
      "cell_type": "markdown",
      "metadata": {
        "id": "guTBcY9E1DGZ",
        "colab_type": "text"
      },
      "source": [
        "# Adding \"empty\" dimensions\n",
        "\n",
        "- sometimes it's useful to turn an n-dimensional vector into a 1xn matrix.\n",
        "- or a 2x2 matrix into a 1x2x2 three dimensional matrix"
      ]
    },
    {
      "cell_type": "code",
      "metadata": {
        "ExecuteTime": {
          "end_time": "2020-05-11T07:23:41.644274Z",
          "start_time": "2020-05-11T07:23:41.627279Z"
        },
        "id": "Ut_8VCWb1DGZ",
        "colab_type": "code",
        "outputId": "19918739-bef6-4a55-c4fd-0185cde5ae7d",
        "colab": {
          "base_uri": "https://localhost:8080/",
          "height": 204
        }
      },
      "source": [
        "a = np.array([1,2,3])\n",
        "b = np.expand_dims(a,axis=0)\n",
        "c = np.expand_dims(b,axis=0)\n",
        "\n",
        "a\n",
        "print(\"\\n\")\n",
        "a.shape\n",
        "print(\"\\n\")\n",
        "\n",
        "b\n",
        "print(\"\\n\")\n",
        "b.shape\n",
        "print(\"\\n\")\n",
        "\n",
        "c\n",
        "print(\"\\n\")\n",
        "c.shape"
      ],
      "execution_count": 0,
      "outputs": [
        {
          "output_type": "execute_result",
          "data": {
            "text/plain": [
              "array([1, 2, 3])"
            ]
          },
          "metadata": {
            "tags": []
          },
          "execution_count": 27
        },
        {
          "output_type": "stream",
          "text": [
            "\n",
            "\n"
          ],
          "name": "stdout"
        },
        {
          "output_type": "execute_result",
          "data": {
            "text/plain": [
              "(3,)"
            ]
          },
          "metadata": {
            "tags": []
          },
          "execution_count": 27
        },
        {
          "output_type": "stream",
          "text": [
            "\n",
            "\n"
          ],
          "name": "stdout"
        },
        {
          "output_type": "execute_result",
          "data": {
            "text/plain": [
              "array([[1, 2, 3]])"
            ]
          },
          "metadata": {
            "tags": []
          },
          "execution_count": 27
        },
        {
          "output_type": "stream",
          "text": [
            "\n",
            "\n"
          ],
          "name": "stdout"
        },
        {
          "output_type": "execute_result",
          "data": {
            "text/plain": [
              "(1, 3)"
            ]
          },
          "metadata": {
            "tags": []
          },
          "execution_count": 27
        },
        {
          "output_type": "stream",
          "text": [
            "\n",
            "\n"
          ],
          "name": "stdout"
        },
        {
          "output_type": "execute_result",
          "data": {
            "text/plain": [
              "array([[[1, 2, 3]]])"
            ]
          },
          "metadata": {
            "tags": []
          },
          "execution_count": 27
        },
        {
          "output_type": "stream",
          "text": [
            "\n",
            "\n"
          ],
          "name": "stdout"
        },
        {
          "output_type": "execute_result",
          "data": {
            "text/plain": [
              "(1, 1, 3)"
            ]
          },
          "metadata": {
            "tags": []
          },
          "execution_count": 27
        }
      ]
    },
    {
      "cell_type": "markdown",
      "metadata": {
        "id": "Au6Dx4G41DGc",
        "colab_type": "text"
      },
      "source": [
        "## removing empty dimensions\n",
        "- sometimes you would like to get rid of these empty dimension instead\n",
        "- turn a 1xn matrix into a n dimensional vector for example"
      ]
    },
    {
      "cell_type": "code",
      "metadata": {
        "ExecuteTime": {
          "end_time": "2020-05-11T07:27:49.632572Z",
          "start_time": "2020-05-11T07:27:49.625563Z"
        },
        "id": "hZCCxKJO1DGd",
        "colab_type": "code",
        "outputId": "aaad60a9-75c8-4515-e8ff-e3bea4b940d2",
        "colab": {
          "base_uri": "https://localhost:8080/",
          "height": 68
        }
      },
      "source": [
        "np.squeeze(c, axis=0)\n",
        "print(\"\\n\")\n",
        "np.squeeze(np.squeeze(c, axis=0), axis=0)"
      ],
      "execution_count": 0,
      "outputs": [
        {
          "output_type": "execute_result",
          "data": {
            "text/plain": [
              "array([[1, 2, 3]])"
            ]
          },
          "metadata": {
            "tags": []
          },
          "execution_count": 29
        },
        {
          "output_type": "stream",
          "text": [
            "\n",
            "\n"
          ],
          "name": "stdout"
        },
        {
          "output_type": "execute_result",
          "data": {
            "text/plain": [
              "array([1, 2, 3])"
            ]
          },
          "metadata": {
            "tags": []
          },
          "execution_count": 29
        }
      ]
    },
    {
      "cell_type": "markdown",
      "metadata": {
        "id": "9_aII4Y11DGf",
        "colab_type": "text"
      },
      "source": [
        "# Stacking\n"
      ]
    },
    {
      "cell_type": "code",
      "metadata": {
        "ExecuteTime": {
          "end_time": "2020-05-11T07:31:16.684204Z",
          "start_time": "2020-05-11T07:31:16.676204Z"
        },
        "id": "P3Y32St31DGg",
        "colab_type": "code",
        "outputId": "6a9e4eda-2cdb-468d-96ba-f96dce1d3374",
        "colab": {
          "base_uri": "https://localhost:8080/",
          "height": 85
        }
      },
      "source": [
        "a = np.arange(0,5)\n",
        "b = np.arange(5,10)\n",
        "\n",
        "np.vstack((a,b))\n",
        "print(\"\\n\")\n",
        "np.hstack((a,b))"
      ],
      "execution_count": 0,
      "outputs": [
        {
          "output_type": "execute_result",
          "data": {
            "text/plain": [
              "array([[0, 1, 2, 3, 4],\n",
              "       [5, 6, 7, 8, 9]])"
            ]
          },
          "metadata": {
            "tags": []
          },
          "execution_count": 30
        },
        {
          "output_type": "stream",
          "text": [
            "\n",
            "\n"
          ],
          "name": "stdout"
        },
        {
          "output_type": "execute_result",
          "data": {
            "text/plain": [
              "array([0, 1, 2, 3, 4, 5, 6, 7, 8, 9])"
            ]
          },
          "metadata": {
            "tags": []
          },
          "execution_count": 30
        }
      ]
    },
    {
      "cell_type": "markdown",
      "metadata": {
        "id": "--NzO8Ep1DGj",
        "colab_type": "text"
      },
      "source": [
        "# Indexing"
      ]
    },
    {
      "cell_type": "markdown",
      "metadata": {
        "id": "SzOHD5Gv1DGj",
        "colab_type": "text"
      },
      "source": [
        "indexing can be done with slicing just like python lists:"
      ]
    },
    {
      "cell_type": "code",
      "metadata": {
        "ExecuteTime": {
          "end_time": "2020-05-11T07:30:16.494955Z",
          "start_time": "2020-05-11T07:30:16.485952Z"
        },
        "id": "JMCER00q1DGk",
        "colab_type": "code",
        "outputId": "39f6b2be-451d-42c7-fff0-1605e6a895b4",
        "colab": {
          "base_uri": "https://localhost:8080/",
          "height": 102
        }
      },
      "source": [
        "a = np.array([1,2,3,4,5,6])\n",
        "a[1:3]\n",
        "print(\"\\n\")\n",
        "a[-4:-1]\n",
        "print(\"\\n\")\n",
        "a[1:6:2]"
      ],
      "execution_count": 0,
      "outputs": [
        {
          "output_type": "execute_result",
          "data": {
            "text/plain": [
              "array([2, 3])"
            ]
          },
          "metadata": {
            "tags": []
          },
          "execution_count": 32
        },
        {
          "output_type": "stream",
          "text": [
            "\n",
            "\n"
          ],
          "name": "stdout"
        },
        {
          "output_type": "execute_result",
          "data": {
            "text/plain": [
              "array([3, 4, 5])"
            ]
          },
          "metadata": {
            "tags": []
          },
          "execution_count": 32
        },
        {
          "output_type": "stream",
          "text": [
            "\n",
            "\n"
          ],
          "name": "stdout"
        },
        {
          "output_type": "execute_result",
          "data": {
            "text/plain": [
              "array([2, 4, 6])"
            ]
          },
          "metadata": {
            "tags": []
          },
          "execution_count": 32
        }
      ]
    },
    {
      "cell_type": "code",
      "metadata": {
        "ExecuteTime": {
          "end_time": "2020-05-11T08:03:57.450189Z",
          "start_time": "2020-05-11T08:03:57.435178Z"
        },
        "id": "zZUfFLta1DGm",
        "colab_type": "code",
        "outputId": "470d47de-ba08-4e37-b3e4-f1c9b1a9fff8",
        "colab": {
          "base_uri": "https://localhost:8080/",
          "height": 187
        }
      },
      "source": [
        "a = np.reshape(np.arange(0, 12), (3,4))\n",
        "a\n",
        "\n",
        "print(\"\\nfirst row:\")\n",
        "a[0, :]\n",
        "print(\"\\nsecond column:\")\n",
        "a[:, 1]\n",
        "print(\"\\nexcluding first row and first column:\")\n",
        "a[1:, 1:]"
      ],
      "execution_count": 0,
      "outputs": [
        {
          "output_type": "execute_result",
          "data": {
            "text/plain": [
              "array([[ 0,  1,  2,  3],\n",
              "       [ 4,  5,  6,  7],\n",
              "       [ 8,  9, 10, 11]])"
            ]
          },
          "metadata": {
            "tags": []
          },
          "execution_count": 34
        },
        {
          "output_type": "stream",
          "text": [
            "\n",
            "first row:\n"
          ],
          "name": "stdout"
        },
        {
          "output_type": "execute_result",
          "data": {
            "text/plain": [
              "array([0, 1, 2, 3])"
            ]
          },
          "metadata": {
            "tags": []
          },
          "execution_count": 34
        },
        {
          "output_type": "stream",
          "text": [
            "\n",
            "second column:\n"
          ],
          "name": "stdout"
        },
        {
          "output_type": "execute_result",
          "data": {
            "text/plain": [
              "array([1, 5, 9])"
            ]
          },
          "metadata": {
            "tags": []
          },
          "execution_count": 34
        },
        {
          "output_type": "stream",
          "text": [
            "\n",
            "excluding first row and first column:\n"
          ],
          "name": "stdout"
        },
        {
          "output_type": "execute_result",
          "data": {
            "text/plain": [
              "array([[ 5,  6,  7],\n",
              "       [ 9, 10, 11]])"
            ]
          },
          "metadata": {
            "tags": []
          },
          "execution_count": 34
        }
      ]
    },
    {
      "cell_type": "markdown",
      "metadata": {
        "id": "yrim4ucm1DGp",
        "colab_type": "text"
      },
      "source": [
        "## boolean indexing:\n"
      ]
    },
    {
      "cell_type": "code",
      "metadata": {
        "ExecuteTime": {
          "end_time": "2020-05-11T08:04:26.337221Z",
          "start_time": "2020-05-11T08:04:26.332224Z"
        },
        "id": "nUAkfxmK1DGq",
        "colab_type": "code",
        "outputId": "1b34a291-d39d-45be-b6e3-6bb592575b87",
        "colab": {
          "base_uri": "https://localhost:8080/",
          "height": 34
        }
      },
      "source": [
        "a = np.array([1,2,3,4,5,6])\n",
        "a[[True, False, False, True, True, True]] "
      ],
      "execution_count": 0,
      "outputs": [
        {
          "output_type": "execute_result",
          "data": {
            "text/plain": [
              "array([1, 4, 5, 6])"
            ]
          },
          "metadata": {
            "tags": []
          },
          "execution_count": 36
        }
      ]
    },
    {
      "cell_type": "markdown",
      "metadata": {
        "id": "S6YgE_I41DGu",
        "colab_type": "text"
      },
      "source": [
        "## using boolean indexing to index on condition:"
      ]
    },
    {
      "cell_type": "code",
      "metadata": {
        "ExecuteTime": {
          "end_time": "2020-05-11T08:04:30.977552Z",
          "start_time": "2020-05-11T08:04:30.970547Z"
        },
        "id": "Ks4D1UGY1DGv",
        "colab_type": "code",
        "outputId": "87d19139-ca2d-4913-8baf-0f7e7e6c8e6d",
        "colab": {
          "base_uri": "https://localhost:8080/",
          "height": 68
        }
      },
      "source": [
        "a > 3\n",
        "print(\"\\n\")\n",
        "a[a > 3]"
      ],
      "execution_count": 0,
      "outputs": [
        {
          "output_type": "execute_result",
          "data": {
            "text/plain": [
              "array([False, False, False,  True,  True,  True])"
            ]
          },
          "metadata": {
            "tags": []
          },
          "execution_count": 38
        },
        {
          "output_type": "stream",
          "text": [
            "\n",
            "\n"
          ],
          "name": "stdout"
        },
        {
          "output_type": "execute_result",
          "data": {
            "text/plain": [
              "array([4, 5, 6])"
            ]
          },
          "metadata": {
            "tags": []
          },
          "execution_count": 38
        }
      ]
    },
    {
      "cell_type": "markdown",
      "metadata": {
        "id": "TmkXcwNx1DGy",
        "colab_type": "text"
      },
      "source": [
        "# broadcasting"
      ]
    },
    {
      "cell_type": "markdown",
      "metadata": {
        "id": "z4iOfE751DGy",
        "colab_type": "text"
      },
      "source": [
        "When performing operations on array Numpy performs broadcasting: expanding dimensions as necessary. \n",
        "\n",
        "To perform element-wise operations on two arrays all dimension have to either be equal or 1. If the dimension is 1, the value will be copied along that dimension to match the dimension of the other array.\n",
        "\n",
        "All this will be clearer with some examples:"
      ]
    },
    {
      "cell_type": "code",
      "metadata": {
        "ExecuteTime": {
          "end_time": "2020-05-11T07:41:10.108132Z",
          "start_time": "2020-05-11T07:41:10.100123Z"
        },
        "id": "c2MdFeoj1DGz",
        "colab_type": "code",
        "outputId": "c2b8bed0-544d-4d7d-8aed-2c2e92e91c8c",
        "colab": {
          "base_uri": "https://localhost:8080/",
          "height": 102
        }
      },
      "source": [
        "a = np.reshape(np.arange(0, 12), (3, 4))\n",
        "a\n",
        "print(\"\\n\")\n",
        "a.shape"
      ],
      "execution_count": 0,
      "outputs": [
        {
          "output_type": "execute_result",
          "data": {
            "text/plain": [
              "array([[ 0,  1,  2,  3],\n",
              "       [ 4,  5,  6,  7],\n",
              "       [ 8,  9, 10, 11]])"
            ]
          },
          "metadata": {
            "tags": []
          },
          "execution_count": 40
        },
        {
          "output_type": "stream",
          "text": [
            "\n",
            "\n"
          ],
          "name": "stdout"
        },
        {
          "output_type": "execute_result",
          "data": {
            "text/plain": [
              "(3, 4)"
            ]
          },
          "metadata": {
            "tags": []
          },
          "execution_count": 40
        }
      ]
    },
    {
      "cell_type": "code",
      "metadata": {
        "ExecuteTime": {
          "end_time": "2020-05-11T07:41:22.566016Z",
          "start_time": "2020-05-11T07:41:22.557010Z"
        },
        "id": "YrvWPCmB1DG2",
        "colab_type": "code",
        "outputId": "17e0c2e5-5cc8-4ea0-eace-f518ce590338",
        "colab": {
          "base_uri": "https://localhost:8080/",
          "height": 102
        }
      },
      "source": [
        "b = np.array([2])\n",
        "b.shape\n",
        "print(\"\\n\")\n",
        "a + b"
      ],
      "execution_count": 0,
      "outputs": [
        {
          "output_type": "execute_result",
          "data": {
            "text/plain": [
              "(1,)"
            ]
          },
          "metadata": {
            "tags": []
          },
          "execution_count": 43
        },
        {
          "output_type": "stream",
          "text": [
            "\n",
            "\n"
          ],
          "name": "stdout"
        },
        {
          "output_type": "execute_result",
          "data": {
            "text/plain": [
              "array([[ 2,  3,  4,  5],\n",
              "       [ 6,  7,  8,  9],\n",
              "       [10, 11, 12, 13]])"
            ]
          },
          "metadata": {
            "tags": []
          },
          "execution_count": 43
        }
      ]
    },
    {
      "cell_type": "code",
      "metadata": {
        "ExecuteTime": {
          "end_time": "2020-05-11T07:41:34.586864Z",
          "start_time": "2020-05-11T07:41:34.579857Z"
        },
        "id": "YqQlxHeW1DG5",
        "colab_type": "code",
        "outputId": "96af1c8d-3263-4698-ffbb-7303dd977aeb",
        "colab": {
          "base_uri": "https://localhost:8080/",
          "height": 170
        }
      },
      "source": [
        "b = np.array([[2], [4], [6]])\n",
        "b\n",
        "print(\"\\n\")\n",
        "b.shape\n",
        "print(\"\\n\")\n",
        "a + b"
      ],
      "execution_count": 0,
      "outputs": [
        {
          "output_type": "execute_result",
          "data": {
            "text/plain": [
              "array([[2],\n",
              "       [4],\n",
              "       [6]])"
            ]
          },
          "metadata": {
            "tags": []
          },
          "execution_count": 45
        },
        {
          "output_type": "stream",
          "text": [
            "\n",
            "\n"
          ],
          "name": "stdout"
        },
        {
          "output_type": "execute_result",
          "data": {
            "text/plain": [
              "(3, 1)"
            ]
          },
          "metadata": {
            "tags": []
          },
          "execution_count": 45
        },
        {
          "output_type": "stream",
          "text": [
            "\n",
            "\n"
          ],
          "name": "stdout"
        },
        {
          "output_type": "execute_result",
          "data": {
            "text/plain": [
              "array([[ 2,  3,  4,  5],\n",
              "       [ 8,  9, 10, 11],\n",
              "       [14, 15, 16, 17]])"
            ]
          },
          "metadata": {
            "tags": []
          },
          "execution_count": 45
        }
      ]
    },
    {
      "cell_type": "code",
      "metadata": {
        "ExecuteTime": {
          "end_time": "2020-05-11T07:42:08.283244Z",
          "start_time": "2020-05-11T07:42:08.275246Z"
        },
        "id": "Qwc54ruG1DG_",
        "colab_type": "code",
        "outputId": "2adf196c-747c-465b-d01b-619a2793425c",
        "colab": {
          "base_uri": "https://localhost:8080/",
          "height": 136
        }
      },
      "source": [
        "b =  np.array([[2, 4, 6, 8]])\n",
        "b\n",
        "print(\"\\n\")\n",
        "b.shape\n",
        "print(\"\\n\")\n",
        "a + b"
      ],
      "execution_count": 0,
      "outputs": [
        {
          "output_type": "execute_result",
          "data": {
            "text/plain": [
              "array([[2, 4, 6, 8]])"
            ]
          },
          "metadata": {
            "tags": []
          },
          "execution_count": 46
        },
        {
          "output_type": "stream",
          "text": [
            "\n",
            "\n"
          ],
          "name": "stdout"
        },
        {
          "output_type": "execute_result",
          "data": {
            "text/plain": [
              "(1, 4)"
            ]
          },
          "metadata": {
            "tags": []
          },
          "execution_count": 46
        },
        {
          "output_type": "stream",
          "text": [
            "\n",
            "\n"
          ],
          "name": "stdout"
        },
        {
          "output_type": "execute_result",
          "data": {
            "text/plain": [
              "array([[ 2,  5,  8, 11],\n",
              "       [ 6,  9, 12, 15],\n",
              "       [10, 13, 16, 19]])"
            ]
          },
          "metadata": {
            "tags": []
          },
          "execution_count": 46
        }
      ]
    },
    {
      "cell_type": "markdown",
      "metadata": {
        "id": "SgoyMkUM1DHE",
        "colab_type": "text"
      },
      "source": [
        "## Broadcasting 2d array to 3d array;\n"
      ]
    },
    {
      "cell_type": "code",
      "metadata": {
        "ExecuteTime": {
          "end_time": "2020-05-11T07:53:06.124893Z",
          "start_time": "2020-05-11T07:53:06.117893Z"
        },
        "id": "v2WZnQ3R1DHF",
        "colab_type": "code",
        "outputId": "7154473d-338d-48a3-85d2-d369a6707776",
        "colab": {
          "base_uri": "https://localhost:8080/",
          "height": 289
        }
      },
      "source": [
        "a = np.reshape(np.arange(0, 24), (3, 4, 2))\n",
        "a\n",
        "print(\"\\n\")\n",
        "a.shape"
      ],
      "execution_count": 0,
      "outputs": [
        {
          "output_type": "execute_result",
          "data": {
            "text/plain": [
              "array([[[ 0,  1],\n",
              "        [ 2,  3],\n",
              "        [ 4,  5],\n",
              "        [ 6,  7]],\n",
              "\n",
              "       [[ 8,  9],\n",
              "        [10, 11],\n",
              "        [12, 13],\n",
              "        [14, 15]],\n",
              "\n",
              "       [[16, 17],\n",
              "        [18, 19],\n",
              "        [20, 21],\n",
              "        [22, 23]]])"
            ]
          },
          "metadata": {
            "tags": []
          },
          "execution_count": 47
        },
        {
          "output_type": "stream",
          "text": [
            "\n",
            "\n"
          ],
          "name": "stdout"
        },
        {
          "output_type": "execute_result",
          "data": {
            "text/plain": [
              "(3, 4, 2)"
            ]
          },
          "metadata": {
            "tags": []
          },
          "execution_count": 47
        }
      ]
    },
    {
      "cell_type": "code",
      "metadata": {
        "ExecuteTime": {
          "end_time": "2020-05-11T07:43:22.501495Z",
          "start_time": "2020-05-11T07:43:22.493493Z"
        },
        "id": "Lo_AlghA1DHI",
        "colab_type": "code",
        "outputId": "856816b3-b802-47c0-cd9c-d2b633420726",
        "colab": {
          "base_uri": "https://localhost:8080/",
          "height": 119
        }
      },
      "source": [
        "b = np.reshape(np.arange(0, 4), (1, 4, 1))\n",
        "b\n",
        "print(\"\\n\")\n",
        "b.shape"
      ],
      "execution_count": 0,
      "outputs": [
        {
          "output_type": "execute_result",
          "data": {
            "text/plain": [
              "array([[[0],\n",
              "        [1],\n",
              "        [2],\n",
              "        [3]]])"
            ]
          },
          "metadata": {
            "tags": []
          },
          "execution_count": 48
        },
        {
          "output_type": "stream",
          "text": [
            "\n",
            "\n"
          ],
          "name": "stdout"
        },
        {
          "output_type": "execute_result",
          "data": {
            "text/plain": [
              "(1, 4, 1)"
            ]
          },
          "metadata": {
            "tags": []
          },
          "execution_count": 48
        }
      ]
    },
    {
      "cell_type": "code",
      "metadata": {
        "ExecuteTime": {
          "end_time": "2020-05-11T07:43:36.828515Z",
          "start_time": "2020-05-11T07:43:36.823513Z"
        },
        "id": "Ar-8vF6n1DHL",
        "colab_type": "code",
        "outputId": "8af287a5-440b-497b-95f8-c2fb72121e54",
        "colab": {
          "base_uri": "https://localhost:8080/",
          "height": 255
        }
      },
      "source": [
        "a + b"
      ],
      "execution_count": 0,
      "outputs": [
        {
          "output_type": "execute_result",
          "data": {
            "text/plain": [
              "array([[[ 0,  1],\n",
              "        [ 3,  4],\n",
              "        [ 6,  7],\n",
              "        [ 9, 10]],\n",
              "\n",
              "       [[ 8,  9],\n",
              "        [11, 12],\n",
              "        [14, 15],\n",
              "        [17, 18]],\n",
              "\n",
              "       [[16, 17],\n",
              "        [19, 20],\n",
              "        [22, 23],\n",
              "        [25, 26]]])"
            ]
          },
          "metadata": {
            "tags": []
          },
          "execution_count": 49
        }
      ]
    },
    {
      "cell_type": "code",
      "metadata": {
        "id": "rNmF3tD71DHO",
        "colab_type": "code",
        "colab": {}
      },
      "source": [
        ""
      ],
      "execution_count": 0,
      "outputs": []
    },
    {
      "cell_type": "markdown",
      "metadata": {
        "id": "egfZqzdQ1DHR",
        "colab_type": "text"
      },
      "source": [
        "# Numpy functions\n",
        "\n",
        "Just a small taste, check the numpy documentation for all the cool stuff numpy can do: https://numpy.org/doc/stable/reference/ufuncs.html#available-ufuncs\n",
        "\n",
        "(like if you need to do some discrete fourier transforms)\n",
        "\n"
      ]
    },
    {
      "cell_type": "markdown",
      "metadata": {
        "id": "622x7Dgs1DHR",
        "colab_type": "text"
      },
      "source": [
        "## basic functions"
      ]
    },
    {
      "cell_type": "code",
      "metadata": {
        "ExecuteTime": {
          "end_time": "2020-05-11T07:58:20.800355Z",
          "start_time": "2020-05-11T07:58:20.786356Z"
        },
        "id": "ELz8b-aP1DHS",
        "colab_type": "code",
        "outputId": "af9376fb-7e4f-47c6-82c4-432d951d4115",
        "colab": {
          "base_uri": "https://localhost:8080/",
          "height": 119
        }
      },
      "source": [
        "a = np.arange(5,15,2)\n",
        "np.mean(a)\n",
        "print(\"\\n\")\n",
        "np.std(a)\n",
        "print(\"\\n\")\n",
        "np.median(a)\n",
        "print(\"\\n\")"
      ],
      "execution_count": 0,
      "outputs": [
        {
          "output_type": "execute_result",
          "data": {
            "text/plain": [
              "9.0"
            ]
          },
          "metadata": {
            "tags": []
          },
          "execution_count": 54
        },
        {
          "output_type": "stream",
          "text": [
            "\n",
            "\n"
          ],
          "name": "stdout"
        },
        {
          "output_type": "execute_result",
          "data": {
            "text/plain": [
              "2.8284271247461903"
            ]
          },
          "metadata": {
            "tags": []
          },
          "execution_count": 54
        },
        {
          "output_type": "stream",
          "text": [
            "\n",
            "\n"
          ],
          "name": "stdout"
        },
        {
          "output_type": "execute_result",
          "data": {
            "text/plain": [
              "9.0"
            ]
          },
          "metadata": {
            "tags": []
          },
          "execution_count": 54
        },
        {
          "output_type": "stream",
          "text": [
            "\n",
            "\n"
          ],
          "name": "stdout"
        }
      ]
    },
    {
      "cell_type": "markdown",
      "metadata": {
        "id": "SGzU8WLC1DHV",
        "colab_type": "text"
      },
      "source": [
        "## trigonometry"
      ]
    },
    {
      "cell_type": "code",
      "metadata": {
        "ExecuteTime": {
          "end_time": "2020-05-11T08:11:31.884336Z",
          "start_time": "2020-05-11T08:11:31.877340Z"
        },
        "id": "UkkngW6Z1DHW",
        "colab_type": "code",
        "outputId": "87f85c3c-7a8a-4061-df57-098c8c7e340c",
        "colab": {
          "base_uri": "https://localhost:8080/",
          "height": 85
        }
      },
      "source": [
        "theta = np.linspace(0, np.pi, 4)\n",
        "\n",
        "print(\"theta      = \", theta)\n",
        "print(\"sin(theta) = \", np.sin(theta))\n",
        "print(\"cos(theta) = \", np.cos(theta))\n",
        "print(\"tan(theta) = \", np.tan(theta))"
      ],
      "execution_count": 0,
      "outputs": [
        {
          "output_type": "stream",
          "text": [
            "theta      =  [0.         1.04719755 2.0943951  3.14159265]\n",
            "sin(theta) =  [0.00000000e+00 8.66025404e-01 8.66025404e-01 1.22464680e-16]\n",
            "cos(theta) =  [ 1.   0.5 -0.5 -1. ]\n",
            "tan(theta) =  [ 0.00000000e+00  1.73205081e+00 -1.73205081e+00 -1.22464680e-16]\n"
          ],
          "name": "stdout"
        }
      ]
    },
    {
      "cell_type": "markdown",
      "metadata": {
        "id": "RxQ0QfKk1DHY",
        "colab_type": "text"
      },
      "source": [
        "## exponentials"
      ]
    },
    {
      "cell_type": "code",
      "metadata": {
        "id": "nsXRSynn1DHZ",
        "colab_type": "code",
        "outputId": "25ff63a7-1876-4191-f4e6-7c3dd661778e",
        "colab": {
          "base_uri": "https://localhost:8080/",
          "height": 85
        }
      },
      "source": [
        "x = [1, 2, 3]\n",
        "print(\"x     =\", x)\n",
        "print(\"e^x   =\", np.exp(x))\n",
        "print(\"2^x   =\", np.exp2(x))\n",
        "print(\"3^x   =\", np.power(3, x))"
      ],
      "execution_count": 0,
      "outputs": [
        {
          "output_type": "stream",
          "text": [
            "x     = [1, 2, 3]\n",
            "e^x   = [ 2.71828183  7.3890561  20.08553692]\n",
            "2^x   = [2. 4. 8.]\n",
            "3^x   = [ 3  9 27]\n"
          ],
          "name": "stdout"
        }
      ]
    },
    {
      "cell_type": "markdown",
      "metadata": {
        "id": "zeC9B0AS1DHc",
        "colab_type": "text"
      },
      "source": [
        "## logs:\n"
      ]
    },
    {
      "cell_type": "code",
      "metadata": {
        "id": "9dNl_jqJ1DHd",
        "colab_type": "code",
        "outputId": "7dff6e2e-f159-4afd-9765-dfd0cde12544",
        "colab": {
          "base_uri": "https://localhost:8080/",
          "height": 85
        }
      },
      "source": [
        "x = [1, 2, 4, 10]\n",
        "print(\"x        =\", x)\n",
        "print(\"ln(x)    =\", np.log(x))\n",
        "print(\"log2(x)  =\", np.log2(x))\n",
        "print(\"log10(x) =\", np.log10(x))"
      ],
      "execution_count": 0,
      "outputs": [
        {
          "output_type": "stream",
          "text": [
            "x        = [1, 2, 4, 10]\n",
            "ln(x)    = [0.         0.69314718 1.38629436 2.30258509]\n",
            "log2(x)  = [0.         1.         2.         3.32192809]\n",
            "log10(x) = [0.         0.30103    0.60205999 1.        ]\n"
          ],
          "name": "stdout"
        }
      ]
    },
    {
      "cell_type": "markdown",
      "metadata": {
        "id": "Lm9jIJQU1DHg",
        "colab_type": "text"
      },
      "source": [
        "## applying functions across a certain axis:"
      ]
    },
    {
      "cell_type": "code",
      "metadata": {
        "ExecuteTime": {
          "end_time": "2020-05-11T07:59:22.163759Z",
          "start_time": "2020-05-11T07:59:22.138697Z"
        },
        "id": "2OiG1hIZ1DHh",
        "colab_type": "code",
        "outputId": "67edd49d-17c2-42b4-e04d-def5c9da6bba",
        "colab": {
          "base_uri": "https://localhost:8080/",
          "height": 153
        }
      },
      "source": [
        "a = np.array([[1,2], [3,4]])\n",
        "a\n",
        "print(\"\\n\")\n",
        "np.min(a)\n",
        "print(\"\\n\")\n",
        "np.min(a,axis=0)\n",
        "print(\"\\n\")\n",
        "np.max(a,axis=1)"
      ],
      "execution_count": 86,
      "outputs": [
        {
          "output_type": "execute_result",
          "data": {
            "text/plain": [
              "array([[1, 2],\n",
              "       [3, 4]])"
            ]
          },
          "metadata": {
            "tags": []
          },
          "execution_count": 86
        },
        {
          "output_type": "stream",
          "text": [
            "\n",
            "\n"
          ],
          "name": "stdout"
        },
        {
          "output_type": "execute_result",
          "data": {
            "text/plain": [
              "1"
            ]
          },
          "metadata": {
            "tags": []
          },
          "execution_count": 86
        },
        {
          "output_type": "stream",
          "text": [
            "\n",
            "\n"
          ],
          "name": "stdout"
        },
        {
          "output_type": "execute_result",
          "data": {
            "text/plain": [
              "array([1, 2])"
            ]
          },
          "metadata": {
            "tags": []
          },
          "execution_count": 86
        },
        {
          "output_type": "stream",
          "text": [
            "\n",
            "\n"
          ],
          "name": "stdout"
        },
        {
          "output_type": "execute_result",
          "data": {
            "text/plain": [
              "array([2, 4])"
            ]
          },
          "metadata": {
            "tags": []
          },
          "execution_count": 86
        }
      ]
    },
    {
      "cell_type": "markdown",
      "metadata": {
        "id": "Mz9n0FDZ1DHk",
        "colab_type": "text"
      },
      "source": [
        "## Sorting:"
      ]
    },
    {
      "cell_type": "code",
      "metadata": {
        "ExecuteTime": {
          "end_time": "2020-05-11T08:00:22.251950Z",
          "start_time": "2020-05-11T08:00:22.225953Z"
        },
        "id": "_wXw-80E1DHl",
        "colab_type": "code",
        "outputId": "a22ea291-2e22-4f47-a1fe-7e5fbc62a4e3",
        "colab": {
          "base_uri": "https://localhost:8080/",
          "height": 34
        }
      },
      "source": [
        "a = np.array([1,4,2,5,3,6,8,7,9])\n",
        "np.sort(a, kind='quicksort')"
      ],
      "execution_count": 0,
      "outputs": [
        {
          "output_type": "execute_result",
          "data": {
            "text/plain": [
              "array([1, 2, 3, 4, 5, 6, 7, 8, 9])"
            ]
          },
          "metadata": {
            "tags": []
          },
          "execution_count": 60
        }
      ]
    },
    {
      "cell_type": "markdown",
      "metadata": {
        "id": "oBWb2wNI1DHr",
        "colab_type": "text"
      },
      "source": [
        "## keep performing operation until only one element left: reduce:\n",
        "\n",
        "numpy functions have sub methods like .reduce() and .accumulate()"
      ]
    },
    {
      "cell_type": "code",
      "metadata": {
        "ExecuteTime": {
          "end_time": "2020-05-11T08:15:28.334063Z",
          "start_time": "2020-05-11T08:15:28.326064Z"
        },
        "id": "mqEvHwyC1DHs",
        "colab_type": "code",
        "outputId": "6b5a4e55-f4ce-4c47-aa6c-ff2b67e99f89",
        "colab": {
          "base_uri": "https://localhost:8080/",
          "height": 34
        }
      },
      "source": [
        "a = np.arange(1, 5)\n",
        "a\n",
        "np.add.reduce(a)"
      ],
      "execution_count": 0,
      "outputs": [
        {
          "output_type": "execute_result",
          "data": {
            "text/plain": [
              "array([1, 2, 3, 4])"
            ]
          },
          "metadata": {
            "tags": []
          },
          "execution_count": 61
        },
        {
          "output_type": "execute_result",
          "data": {
            "text/plain": [
              "10"
            ]
          },
          "metadata": {
            "tags": []
          },
          "execution_count": 61
        }
      ]
    },
    {
      "cell_type": "markdown",
      "metadata": {
        "ExecuteTime": {
          "end_time": "2020-05-11T08:14:43.085865Z",
          "start_time": "2020-05-11T08:14:43.081863Z"
        },
        "id": "i5SpY7dZ1DHv",
        "colab_type": "text"
      },
      "source": [
        "## Store intermediate steps:"
      ]
    },
    {
      "cell_type": "code",
      "metadata": {
        "ExecuteTime": {
          "end_time": "2020-05-11T08:15:29.952186Z",
          "start_time": "2020-05-11T08:15:29.947182Z"
        },
        "id": "UaYYijrP1DHw",
        "colab_type": "code",
        "outputId": "fde6a1d7-f8da-4439-9cb0-40d56f81c5c0",
        "colab": {
          "base_uri": "https://localhost:8080/",
          "height": 34
        }
      },
      "source": [
        "np.add.accumulate(a)"
      ],
      "execution_count": 0,
      "outputs": [
        {
          "output_type": "execute_result",
          "data": {
            "text/plain": [
              "array([ 1,  3,  6, 10])"
            ]
          },
          "metadata": {
            "tags": []
          },
          "execution_count": 62
        }
      ]
    },
    {
      "cell_type": "code",
      "metadata": {
        "id": "PTu2oCba1DHz",
        "colab_type": "code",
        "colab": {}
      },
      "source": [
        ""
      ],
      "execution_count": 0,
      "outputs": []
    },
    {
      "cell_type": "markdown",
      "metadata": {
        "id": "VFEfy4tR5j6p",
        "colab_type": "text"
      },
      "source": [
        "# Random sampling\n",
        "\n",
        "Numpy also has a substantial random sampling submodule `np.random`\n",
        "\n",
        "Documentation:\n",
        "\n",
        "https://docs.scipy.org/doc/numpy-1.14.0/reference/routines.random.html\n",
        "\n",
        "Some examples:"
      ]
    },
    {
      "cell_type": "code",
      "metadata": {
        "id": "s90WFDzj8ehw",
        "colab_type": "code",
        "colab": {}
      },
      "source": [
        "np.random.seed(42) # set the seed so that your random numbers are reproducible"
      ],
      "execution_count": 0,
      "outputs": []
    },
    {
      "cell_type": "code",
      "metadata": {
        "id": "iwp8gdPF5hfh",
        "colab_type": "code",
        "outputId": "478fd169-1793-47ed-bd09-f06d847cba8f",
        "colab": {
          "base_uri": "https://localhost:8080/",
          "height": 34
        }
      },
      "source": [
        "np.random.rand(5)"
      ],
      "execution_count": 81,
      "outputs": [
        {
          "output_type": "execute_result",
          "data": {
            "text/plain": [
              "array([0.37454012, 0.95071431, 0.73199394, 0.59865848, 0.15601864])"
            ]
          },
          "metadata": {
            "tags": []
          },
          "execution_count": 81
        }
      ]
    },
    {
      "cell_type": "code",
      "metadata": {
        "id": "MCbkd2sT6HKu",
        "colab_type": "code",
        "outputId": "e055af28-3572-42e0-be9f-f6a9b5524e9e",
        "colab": {
          "base_uri": "https://localhost:8080/",
          "height": 34
        }
      },
      "source": [
        "np.random.choice(np.arange(0, 10))"
      ],
      "execution_count": 82,
      "outputs": [
        {
          "output_type": "execute_result",
          "data": {
            "text/plain": [
              "2"
            ]
          },
          "metadata": {
            "tags": []
          },
          "execution_count": 82
        }
      ]
    },
    {
      "cell_type": "code",
      "metadata": {
        "id": "7lkcFm0o6UFo",
        "colab_type": "code",
        "outputId": "437a8ac6-b95f-4769-f203-d025b48ca52c",
        "colab": {
          "base_uri": "https://localhost:8080/",
          "height": 34
        }
      },
      "source": [
        "np.random.permutation(np.arange(0, 10))"
      ],
      "execution_count": 83,
      "outputs": [
        {
          "output_type": "execute_result",
          "data": {
            "text/plain": [
              "array([0, 5, 9, 1, 8, 2, 3, 4, 7, 6])"
            ]
          },
          "metadata": {
            "tags": []
          },
          "execution_count": 83
        }
      ]
    },
    {
      "cell_type": "code",
      "metadata": {
        "id": "ibZnyfwR6Xeu",
        "colab_type": "code",
        "outputId": "7ab095db-5772-4f5a-a8f6-b09e4a221ac4",
        "colab": {
          "base_uri": "https://localhost:8080/",
          "height": 34
        }
      },
      "source": [
        "np.random.beta(10, 4) # draw from a beta distribution with parameters a=10 and b=4"
      ],
      "execution_count": 79,
      "outputs": [
        {
          "output_type": "execute_result",
          "data": {
            "text/plain": [
              "0.6669335944569289"
            ]
          },
          "metadata": {
            "tags": []
          },
          "execution_count": 79
        }
      ]
    },
    {
      "cell_type": "code",
      "metadata": {
        "id": "Xy4VrJY66eXO",
        "colab_type": "code",
        "colab": {}
      },
      "source": [
        ""
      ],
      "execution_count": 0,
      "outputs": []
    }
  ]
}